{
  "nbformat": 4,
  "nbformat_minor": 0,
  "metadata": {
    "colab": {
      "name": "committee_of_tflite_networks.ipynb",
      "version": "0.3.2",
      "provenance": [],
      "collapsed_sections": [],
      "include_colab_link": true
    },
    "kernelspec": {
      "name": "python3",
      "display_name": "Python 3"
    },
    "accelerator": "GPU"
  },
  "cells": [
    {
      "cell_type": "markdown",
      "metadata": {
        "id": "view-in-github",
        "colab_type": "text"
      },
      "source": [
        "<a href=\"https://colab.research.google.com/github/besherh/DM-ML/blob/master/committee_of_tflite_networks.ipynb\" target=\"_parent\"><img src=\"https://colab.research.google.com/assets/colab-badge.svg\" alt=\"Open In Colab\"/></a>"
      ]
    },
    {
      "cell_type": "code",
      "metadata": {
        "id": "WYu7r2QeCy8g",
        "colab_type": "code",
        "outputId": "a0509308-5f65-469a-ab12-6efe51d5423e",
        "colab": {
          "base_uri": "https://localhost:8080/",
          "height": 153
        }
      },
      "source": [
        "!pip uninstall -y tensorflow\n",
        "!pip uninstall -y tf-nightly\n",
        "!pip install -U -q tf-nightly-gpu\n"
      ],
      "execution_count": 0,
      "outputs": [
        {
          "output_type": "stream",
          "text": [
            "Uninstalling tensorflow-1.14.0:\n",
            "  Successfully uninstalled tensorflow-1.14.0\n",
            "\u001b[33mWARNING: Skipping tf-nightly as it is not installed.\u001b[0m\n",
            "\u001b[K     |████████████████████████████████| 228.9MB 48.2MB/s \n",
            "\u001b[K     |████████████████████████████████| 4.3MB 48.4MB/s \n",
            "\u001b[K     |████████████████████████████████| 512kB 47.7MB/s \n",
            "\u001b[K     |████████████████████████████████| 61kB 27.5MB/s \n",
            "\u001b[?25h  Building wheel for opt-einsum (setup.py) ... \u001b[?25l\u001b[?25hdone\n"
          ],
          "name": "stdout"
        }
      ]
    },
    {
      "cell_type": "code",
      "metadata": {
        "id": "DAtRMQitDs2K",
        "colab_type": "code",
        "outputId": "dd3bb078-3f51-4468-f098-01aacd8750c9",
        "colab": {
          "base_uri": "https://localhost:8080/",
          "height": 272
        }
      },
      "source": [
        "import tensorflow as tf\n",
        "tf.enable_eager_execution()\n",
        "print(tf.__version__)\n",
        "import numpy as np\n",
        "import glob\n",
        "\n",
        "\n"
      ],
      "execution_count": 0,
      "outputs": [
        {
          "output_type": "stream",
          "text": [
            "WARNING: Logging before flag parsing goes to stderr.\n",
            "W0808 13:44:47.241978 139674004875136 __init__.py:687] \n",
            "\n",
            "  TensorFlow's `tf-nightly` package will soon be updated to TensorFlow 2.0.\n",
            "\n",
            "  Please upgrade your code to TensorFlow 2.0:\n",
            "    * https://www.tensorflow.org/beta/guide/migration_guide\n",
            "\n",
            "  Or install the latest stable TensorFlow 1.X release:\n",
            "    * `pip install -U \"tensorflow==1.*\"`\n",
            "\n",
            "  Otherwise your code may be broken by the change.\n",
            "\n",
            "  \n"
          ],
          "name": "stderr"
        },
        {
          "output_type": "stream",
          "text": [
            "1.15.0-dev20190808\n"
          ],
          "name": "stdout"
        }
      ]
    },
    {
      "cell_type": "code",
      "metadata": {
        "id": "kcifWOJdIdO2",
        "colab_type": "code",
        "colab": {}
      },
      "source": [
        "test_samples = 100\n",
        "\n",
        "def file_browser(directory_name):\n",
        "  return [model for model in glob.glob(directory_name + \"*.tflite\")]\n",
        "\n",
        "def intialize_test_set():\n",
        "  (x_train,y_train),(x_test,y_test) = tf.keras.datasets.cifar10.load_data()\n",
        "  x_test = x_test.astype(\"float32\")\n",
        "  x_test /= 255\n",
        "  y_test = tf.keras.utils.to_categorical(y_test,10)\n",
        "  print(x_test.shape[0], \": testing samples\")\n",
        "  print(y_test.shape, \" Lables\")\n",
        "  return x_test,y_test\n",
        "\n",
        "def model_eval(file_name, x_test, y_test):\n",
        "  interpreter = tf.lite.Interpreter(file_name)\n",
        "  interpreter.allocate_tensors()\n",
        "  input_index = interpreter.get_input_details()[0][\"index\"]\n",
        "  output_index = interpreter.get_output_details()[0][\"index\"]\n",
        "  model_prediction = []\n",
        "  for img, label in zip(x_test, y_test):    \n",
        "    inp = img.reshape((1, 32, 32, 3))\n",
        "    interpreter.set_tensor(input_index, inp)\n",
        "    #  start_time = time.time()\n",
        "    interpreter.invoke()\n",
        "    #  stop_time = time.time()\n",
        "    predictions = interpreter.get_tensor(output_index)\n",
        "    model_prediction.append(predictions)\n",
        "  return model_prediction\n",
        "\n",
        "def combine_predictions(model_pool_dic):\n",
        "  i = 0\n",
        "  yhats = []\n",
        "  while i <= test_samples-1:\n",
        "    one_instance_prediction = []\n",
        "    for key in model_pool_dic:\n",
        "      #print(\"model:\",key,\" item:\",i, \"is:\",model_pool_prediction[key][i])\n",
        "      one_instance_prediction.append(model_pool_dic[key][i])\n",
        "    temp = np.array(one_instance_prediction)\n",
        "    yhat = np.sum(temp, axis=0)\n",
        "    yhats.append(yhat)  \n",
        "    i += 1\n",
        "  return np.array(yhats)\n",
        "\n",
        "def compute_accuracy(y_test,committee_yhats):\n",
        "  total_seen = 0\n",
        "  total_correct = 0\n",
        "  for i in range(0,test_samples-1):\n",
        "    total_seen += 1\n",
        "    #print(\"Correct label:\",np.argmax(y_test[i]), \" The predicted label:\",np.argmax(committee_yhats[i]))\n",
        "    if(np.argmax(y_test[i]) == np.argmax(committee_yhats[i])):\n",
        "      total_correct +=1\n",
        "  return float(total_correct) / float(total_seen)\n",
        "\n",
        " "
      ],
      "execution_count": 0,
      "outputs": []
    },
    {
      "cell_type": "code",
      "metadata": {
        "id": "2n2FVa60K9jP",
        "colab_type": "code",
        "outputId": "8ab9c2c6-fb6f-4eb8-d260-b023906d2d4a",
        "colab": {
          "base_uri": "https://localhost:8080/",
          "height": 51
        }
      },
      "source": [
        "x_test,y_test = intialize_test_set()"
      ],
      "execution_count": 0,
      "outputs": [
        {
          "output_type": "stream",
          "text": [
            "10000 : testing samples\n",
            "(10000, 10)  Lables\n"
          ],
          "name": "stdout"
        }
      ]
    },
    {
      "cell_type": "code",
      "metadata": {
        "id": "JrzcC_VQJlzs",
        "colab_type": "code",
        "outputId": "c14a2026-bb16-4984-e313-ec56ce34d331",
        "colab": {
          "base_uri": "https://localhost:8080/",
          "height": 34
        }
      },
      "source": [
        "models_list = file_browser(\"./\")\n",
        "model_pool_prediction = {}\n",
        "for model_name in models_list:\n",
        "  model_pool_prediction[model_name] = model_eval(model_name,x_test[:test_samples],y_test[:test_samples])\n",
        "\n",
        "yhats = combine_predictions(model_pool_prediction)\n",
        "print(compute_accuracy(y_test,yhats))\n",
        "\n"
      ],
      "execution_count": 0,
      "outputs": [
        {
          "output_type": "stream",
          "text": [
            "0.8282828282828283\n"
          ],
          "name": "stdout"
        }
      ]
    }
  ]
}
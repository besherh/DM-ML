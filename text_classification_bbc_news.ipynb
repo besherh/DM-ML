{
  "nbformat": 4,
  "nbformat_minor": 0,
  "metadata": {
    "colab": {
      "name": "text_classification_bbc_news.ipynb",
      "version": "0.3.2",
      "provenance": [],
      "include_colab_link": true
    },
    "kernelspec": {
      "name": "python3",
      "display_name": "Python 3"
    }
  },
  "cells": [
    {
      "cell_type": "markdown",
      "metadata": {
        "id": "view-in-github",
        "colab_type": "text"
      },
      "source": [
        "<a href=\"https://colab.research.google.com/github/besherh/DM-ML/blob/master/text_classification_bbc_news.ipynb\" target=\"_parent\"><img src=\"https://colab.research.google.com/assets/colab-badge.svg\" alt=\"Open In Colab\"/></a>"
      ]
    },
    {
      "cell_type": "markdown",
      "metadata": {
        "id": "_4qimzvc93IA",
        "colab_type": "text"
      },
      "source": [
        "#Load libraries"
      ]
    },
    {
      "cell_type": "code",
      "metadata": {
        "id": "-V6-5xoDs6PI",
        "colab_type": "code",
        "colab": {
          "base_uri": "https://localhost:8080/",
          "height": 51
        },
        "outputId": "e8700a8f-86c4-4017-9f83-90b21548b795"
      },
      "source": [
        "import tensorflow as tf\n",
        "import numpy as np\n",
        "import tensorflow_datasets as tfds\n",
        "from keras.preprocessing.text import Tokenizer\n",
        "from keras.preprocessing.sequence import pad_sequences\n",
        "\n",
        "\n",
        "\n",
        "print(tf.__version__)\n",
        "if(tf.test.is_gpu_available):\n",
        "  print(\"GPU\")\n",
        "else:\n",
        "  print(\"GPU is not available\")"
      ],
      "execution_count": 58,
      "outputs": [
        {
          "output_type": "stream",
          "text": [
            "2.0.0-rc0\n",
            "GPU\n"
          ],
          "name": "stdout"
        }
      ]
    },
    {
      "cell_type": "markdown",
      "metadata": {
        "id": "DZwzXxXI-FaK",
        "colab_type": "text"
      },
      "source": [
        "#Download BBC new dataset"
      ]
    },
    {
      "cell_type": "code",
      "metadata": {
        "id": "9SEOt7U9uf4m",
        "colab_type": "code",
        "colab": {
          "base_uri": "https://localhost:8080/",
          "height": 204
        },
        "outputId": "0584ed86-171b-4936-a23f-7279cabb758b"
      },
      "source": [
        "!wget --no-check-certificate \\\n",
        "    https://storage.googleapis.com/laurencemoroney-blog.appspot.com/bbc-text.csv \\\n",
        "    -O /tmp/bbc-text.csv"
      ],
      "execution_count": 4,
      "outputs": [
        {
          "output_type": "stream",
          "text": [
            "--2019-09-10 10:36:58--  https://storage.googleapis.com/laurencemoroney-blog.appspot.com/bbc-text.csv\n",
            "Resolving storage.googleapis.com (storage.googleapis.com)... 74.125.20.128, 2607:f8b0:400e:c07::80\n",
            "Connecting to storage.googleapis.com (storage.googleapis.com)|74.125.20.128|:443... connected.\n",
            "HTTP request sent, awaiting response... 200 OK\n",
            "Length: 5057493 (4.8M) [application/octet-stream]\n",
            "Saving to: ‘/tmp/bbc-text.csv’\n",
            "\n",
            "\r/tmp/bbc-text.csv     0%[                    ]       0  --.-KB/s               \r/tmp/bbc-text.csv   100%[===================>]   4.82M  --.-KB/s    in 0.02s   \n",
            "\n",
            "2019-09-10 10:36:59 (235 MB/s) - ‘/tmp/bbc-text.csv’ saved [5057493/5057493]\n",
            "\n"
          ],
          "name": "stdout"
        }
      ]
    },
    {
      "cell_type": "code",
      "metadata": {
        "id": "niU-LUfMwD7u",
        "colab_type": "code",
        "colab": {}
      },
      "source": [
        "vocab_size = 1000\n",
        "embedding_dim = 16\n",
        "max_length = 120\n",
        "trunc_type='post'\n",
        "padding_type='post'\n",
        "oov_tok = \"<OOV>\"\n",
        "training_portion = .8"
      ],
      "execution_count": 0,
      "outputs": []
    },
    {
      "cell_type": "code",
      "metadata": {
        "id": "BdDw9W2mw1qM",
        "colab_type": "code",
        "colab": {
          "base_uri": "https://localhost:8080/",
          "height": 34
        },
        "outputId": "ff007406-3702-4886-e9b8-1252696e10b8"
      },
      "source": [
        "sentences = []\n",
        "labels = []\n",
        "stopwords = [ \"a\", \"about\", \"above\", \"after\", \"again\", \"against\", \"all\", \"am\", \"an\", \"and\", \"any\", \"are\", \"as\", \"at\", \"be\", \"because\", \"been\", \"before\", \"being\", \"below\", \"between\", \"both\", \"but\", \"by\", \"could\", \"did\", \"do\", \"does\", \"doing\", \"down\", \"during\", \"each\", \"few\", \"for\", \"from\", \"further\", \"had\", \"has\", \"have\", \"having\", \"he\", \"he'd\", \"he'll\", \"he's\", \"her\", \"here\", \"here's\", \"hers\", \"herself\", \"him\", \"himself\", \"his\", \"how\", \"how's\", \"i\", \"i'd\", \"i'll\", \"i'm\", \"i've\", \"if\", \"in\", \"into\", \"is\", \"it\", \"it's\", \"its\", \"itself\", \"let's\", \"me\", \"more\", \"most\", \"my\", \"myself\", \"nor\", \"of\", \"on\", \"once\", \"only\", \"or\", \"other\", \"ought\", \"our\", \"ours\", \"ourselves\", \"out\", \"over\", \"own\", \"same\", \"she\", \"she'd\", \"she'll\", \"she's\", \"should\", \"so\", \"some\", \"such\", \"than\", \"that\", \"that's\", \"the\", \"their\", \"theirs\", \"them\", \"themselves\", \"then\", \"there\", \"there's\", \"these\", \"they\", \"they'd\", \"they'll\", \"they're\", \"they've\", \"this\", \"those\", \"through\", \"to\", \"too\", \"under\", \"until\", \"up\", \"very\", \"was\", \"we\", \"we'd\", \"we'll\", \"we're\", \"we've\", \"were\", \"what\", \"what's\", \"when\", \"when's\", \"where\", \"where's\", \"which\", \"while\", \"who\", \"who's\", \"whom\", \"why\", \"why's\", \"with\", \"would\", \"you\", \"you'd\", \"you'll\", \"you're\", \"you've\", \"your\", \"yours\", \"yourself\", \"yourselves\" ]\n",
        "print(len(stopwords))\n",
        "# Expected Output\n",
        "# 153"
      ],
      "execution_count": 56,
      "outputs": [
        {
          "output_type": "stream",
          "text": [
            "153\n"
          ],
          "name": "stdout"
        }
      ]
    },
    {
      "cell_type": "code",
      "metadata": {
        "id": "jSGftZMWxHl5",
        "colab_type": "code",
        "colab": {
          "base_uri": "https://localhost:8080/",
          "height": 88
        },
        "outputId": "e3b591c4-dfb1-4914-abfd-3e4e10cef5ba"
      },
      "source": [
        "with open(\"/tmp/bbc-text.csv\", 'r') as csvfile:\n",
        "    reader = csv.reader(csvfile, delimiter=',')\n",
        "    next(reader)\n",
        "    for row in reader:\n",
        "        labels.append(row[0])\n",
        "        sentence = row[1]\n",
        "        for word in stopwords:\n",
        "            token = \" \" + word + \" \"\n",
        "            sentence = sentence.replace(token,\" \")\n",
        "        sentences.append(sentence)\n",
        "\n",
        "print(len(labels))\n",
        "print(len(sentences))\n",
        "print(sentences[0])\n"
      ],
      "execution_count": 57,
      "outputs": [
        {
          "output_type": "stream",
          "text": [
            "2225\n",
            "2225\n",
            "tv future hands viewers home theatre systems  plasma high-definition tvs  digital video recorders moving living room  way people watch tv will radically different five years  time.  according expert panel gathered annual consumer electronics show las vegas discuss new technologies will impact one favourite pastimes. us leading trend  programmes content will delivered viewers via home networks  cable  satellite  telecoms companies  broadband service providers front rooms portable devices.  one talked-about technologies ces digital personal video recorders (dvr pvr). set-top boxes  like us s tivo uk s sky+ system  allow people record  store  play  pause forward wind tv programmes want.  essentially  technology allows much personalised tv. also built-in high-definition tv sets  big business japan us  slower take off europe lack high-definition programming. not can people forward wind adverts  can also forget abiding network channel schedules  putting together a-la-carte entertainment. us networks cable satellite companies worried means terms advertising revenues well  brand identity  viewer loyalty channels. although us leads technology moment  also concern raised europe  particularly growing uptake services like sky+.  happens today  will see nine months years  time uk   adam hume  bbc broadcast s futurologist told bbc news website. likes bbc  no issues lost advertising revenue yet. pressing issue moment commercial uk broadcasters  brand loyalty important everyone.  will talking content brands rather network brands   said tim hanlon  brand communications firm starcom mediavest.  reality broadband connections  anybody can producer content.  added:  challenge now hard promote programme much choice.   means  said stacey jolna  senior vice president tv guide tv group  way people find content want watch simplified tv viewers. means networks  us terms  channels take leaf google s book search engine future  instead scheduler help people find want watch. kind channel model might work younger ipod generation used taking control gadgets play them. might not suit everyone  panel recognised. older generations comfortable familiar schedules channel brands know getting. perhaps not want much choice put hands  mr hanlon suggested.  end  kids just diapers pushing buttons already - everything possible available   said mr hanlon.  ultimately  consumer will tell market want.   50 000 new gadgets technologies showcased ces  many enhancing tv-watching experience. high-definition tv sets everywhere many new models lcd (liquid crystal display) tvs launched dvr capability built  instead external boxes. one example launched show humax s 26-inch lcd tv 80-hour tivo dvr dvd recorder. one us s biggest satellite tv companies  directtv  even launched branded dvr show 100-hours recording capability  instant replay  search function. set can pause rewind tv 90 hours. microsoft chief bill gates announced pre-show keynote speech partnership tivo  called tivotogo  means people can play recorded programmes windows pcs mobile devices. reflect increasing trend freeing multimedia people can watch want  want.\n"
          ],
          "name": "stdout"
        }
      ]
    },
    {
      "cell_type": "markdown",
      "metadata": {
        "id": "QIsyMP7K-iSp",
        "colab_type": "text"
      },
      "source": [
        "#Create training/Validation sets"
      ]
    },
    {
      "cell_type": "code",
      "metadata": {
        "id": "r64XpUcs90Rq",
        "colab_type": "code",
        "colab": {
          "base_uri": "https://localhost:8080/",
          "height": 68
        },
        "outputId": "f9d0822a-0126-437f-b2fa-d120bb516e93"
      },
      "source": [
        "train_size = int (len(sentences) * training_portion)\n",
        "print(train_size)\n",
        "train_sentences = sentences[:train_size]\n",
        "train_labels = labels[:train_size]\n",
        "\n",
        "val_sentences = sentences[train_size:]\n",
        "val_labels = labels[train_size:]\n",
        "\n",
        "print(\"training size\", len(train_sentences))\n",
        "print(\"validation size\", len(val_sentences))"
      ],
      "execution_count": 88,
      "outputs": [
        {
          "output_type": "stream",
          "text": [
            "1780\n",
            "training size 1780\n",
            "validation size 445\n"
          ],
          "name": "stdout"
        }
      ]
    },
    {
      "cell_type": "markdown",
      "metadata": {
        "id": "O8AK1xvZ_pXV",
        "colab_type": "text"
      },
      "source": [
        "#prepare the text corpus"
      ]
    },
    {
      "cell_type": "code",
      "metadata": {
        "id": "8MduZvEo_SuR",
        "colab_type": "code",
        "colab": {}
      },
      "source": [
        "tokenizer = Tokenizer(num_words= vocab_size, oov_token=oov_tok)\n",
        "tokenizer.fit_on_texts(train_sentences)\n",
        "word_index = tokenizer.word_index\n",
        "\n",
        "train_sequences =  tokenizer.texts_to_sequences(train_sentences)\n",
        "train_padded = pad_sequences(train_sequences, maxlen= max_length, padding=padding_type, truncating=trunc_type)\n",
        "\n",
        "val_sequences = tokenizer.texts_to_sequences(val_sentences)\n",
        "val_padded = pad_sequences(val_sequences, maxlen=max_length, padding=padding_type, truncating=trunc_type)\n",
        "\n",
        "labels_tokenizer = Tokenizer()\n",
        "labels_tokenizer.fit_on_texts(labels)\n",
        "train_labels_sequence = np.array(labels_tokenizer.texts_to_sequences(train_labels))\n",
        "val_labels_sequence = np.array(labels_tokenizer.texts_to_sequences(val_labels))\n",
        "\n",
        "\n"
      ],
      "execution_count": 0,
      "outputs": []
    },
    {
      "cell_type": "markdown",
      "metadata": {
        "id": "wg7xSS9bFRfV",
        "colab_type": "text"
      },
      "source": [
        "#Sequential model"
      ]
    },
    {
      "cell_type": "code",
      "metadata": {
        "id": "3jdm-nGFAf3i",
        "colab_type": "code",
        "colab": {
          "base_uri": "https://localhost:8080/",
          "height": 289
        },
        "outputId": "fb39995a-208e-4c10-83cc-eac6200d1718"
      },
      "source": [
        "model = tf.keras.Sequential([\n",
        "    tf.keras.layers.Embedding(vocab_size, embedding_dim, input_length=max_length),\n",
        "    tf.keras.layers.GlobalAveragePooling1D(),\n",
        "    tf.keras.layers.Dense(16, activation='relu'),\n",
        "    tf.keras.layers.Dense(6, activation='softmax')\n",
        "])\n",
        "model.summary()\n",
        "\n"
      ],
      "execution_count": 118,
      "outputs": [
        {
          "output_type": "stream",
          "text": [
            "Model: \"sequential_22\"\n",
            "_________________________________________________________________\n",
            "Layer (type)                 Output Shape              Param #   \n",
            "=================================================================\n",
            "embedding_27 (Embedding)     (None, 120, 16)           16000     \n",
            "_________________________________________________________________\n",
            "global_average_pooling1d_8 ( (None, 16)                0         \n",
            "_________________________________________________________________\n",
            "dense_44 (Dense)             (None, 16)                272       \n",
            "_________________________________________________________________\n",
            "dense_45 (Dense)             (None, 6)                 102       \n",
            "=================================================================\n",
            "Total params: 16,374\n",
            "Trainable params: 16,374\n",
            "Non-trainable params: 0\n",
            "_________________________________________________________________\n"
          ],
          "name": "stdout"
        }
      ]
    },
    {
      "cell_type": "code",
      "metadata": {
        "id": "FH1gYdoVHpwa",
        "colab_type": "code",
        "colab": {
          "base_uri": "https://localhost:8080/",
          "height": 1000
        },
        "outputId": "1fe35b4c-d884-4871-d84b-d7ccbe10c185"
      },
      "source": [
        "epoch = 30\n",
        "model.compile(loss='sparse_categorical_crossentropy',optimizer='adam',metrics=['accuracy'])\n",
        "history = model.fit(train_padded,train_labels_sequence, epochs= epoch, validation_data=(val_padded,val_labels_sequence))"
      ],
      "execution_count": 119,
      "outputs": [
        {
          "output_type": "stream",
          "text": [
            "Train on 1780 samples, validate on 445 samples\n",
            "Epoch 1/30\n",
            "1780/1780 [==============================] - 1s 412us/sample - loss: 1.7587 - accuracy: 0.2382 - val_loss: 1.7218 - val_accuracy: 0.3348\n",
            "Epoch 2/30\n",
            "1780/1780 [==============================] - 0s 104us/sample - loss: 1.6748 - accuracy: 0.4062 - val_loss: 1.6195 - val_accuracy: 0.3798\n",
            "Epoch 3/30\n",
            "1780/1780 [==============================] - 0s 107us/sample - loss: 1.5542 - accuracy: 0.4713 - val_loss: 1.4889 - val_accuracy: 0.5146\n",
            "Epoch 4/30\n",
            "1780/1780 [==============================] - 0s 100us/sample - loss: 1.4027 - accuracy: 0.5843 - val_loss: 1.3295 - val_accuracy: 0.5730\n",
            "Epoch 5/30\n",
            "1780/1780 [==============================] - 0s 114us/sample - loss: 1.2217 - accuracy: 0.6466 - val_loss: 1.1515 - val_accuracy: 0.6809\n",
            "Epoch 6/30\n",
            "1780/1780 [==============================] - 0s 104us/sample - loss: 1.0376 - accuracy: 0.7567 - val_loss: 0.9889 - val_accuracy: 0.7933\n",
            "Epoch 7/30\n",
            "1780/1780 [==============================] - 0s 109us/sample - loss: 0.8813 - accuracy: 0.8292 - val_loss: 0.8579 - val_accuracy: 0.8449\n",
            "Epoch 8/30\n",
            "1780/1780 [==============================] - 0s 107us/sample - loss: 0.7538 - accuracy: 0.8607 - val_loss: 0.7589 - val_accuracy: 0.8517\n",
            "Epoch 9/30\n",
            "1780/1780 [==============================] - 0s 106us/sample - loss: 0.6499 - accuracy: 0.8983 - val_loss: 0.6701 - val_accuracy: 0.8697\n",
            "Epoch 10/30\n",
            "1780/1780 [==============================] - 0s 115us/sample - loss: 0.5645 - accuracy: 0.9073 - val_loss: 0.6012 - val_accuracy: 0.8831\n",
            "Epoch 11/30\n",
            "1780/1780 [==============================] - 0s 115us/sample - loss: 0.4892 - accuracy: 0.9236 - val_loss: 0.5352 - val_accuracy: 0.8921\n",
            "Epoch 12/30\n",
            "1780/1780 [==============================] - 0s 104us/sample - loss: 0.4247 - accuracy: 0.9326 - val_loss: 0.4885 - val_accuracy: 0.8966\n",
            "Epoch 13/30\n",
            "1780/1780 [==============================] - 0s 102us/sample - loss: 0.3695 - accuracy: 0.9416 - val_loss: 0.4506 - val_accuracy: 0.8989\n",
            "Epoch 14/30\n",
            "1780/1780 [==============================] - 0s 106us/sample - loss: 0.3225 - accuracy: 0.9489 - val_loss: 0.4081 - val_accuracy: 0.8989\n",
            "Epoch 15/30\n",
            "1780/1780 [==============================] - 0s 106us/sample - loss: 0.2829 - accuracy: 0.9551 - val_loss: 0.3823 - val_accuracy: 0.9124\n",
            "Epoch 16/30\n",
            "1780/1780 [==============================] - 0s 98us/sample - loss: 0.2487 - accuracy: 0.9573 - val_loss: 0.3581 - val_accuracy: 0.9213\n",
            "Epoch 17/30\n",
            "1780/1780 [==============================] - 0s 103us/sample - loss: 0.2196 - accuracy: 0.9635 - val_loss: 0.3384 - val_accuracy: 0.9258\n",
            "Epoch 18/30\n",
            "1780/1780 [==============================] - 0s 106us/sample - loss: 0.1956 - accuracy: 0.9697 - val_loss: 0.3204 - val_accuracy: 0.9213\n",
            "Epoch 19/30\n",
            "1780/1780 [==============================] - 0s 107us/sample - loss: 0.1741 - accuracy: 0.9725 - val_loss: 0.3087 - val_accuracy: 0.9326\n",
            "Epoch 20/30\n",
            "1780/1780 [==============================] - 0s 100us/sample - loss: 0.1563 - accuracy: 0.9753 - val_loss: 0.2994 - val_accuracy: 0.9213\n",
            "Epoch 21/30\n",
            "1780/1780 [==============================] - 0s 103us/sample - loss: 0.1416 - accuracy: 0.9787 - val_loss: 0.2870 - val_accuracy: 0.9326\n",
            "Epoch 22/30\n",
            "1780/1780 [==============================] - 0s 107us/sample - loss: 0.1275 - accuracy: 0.9809 - val_loss: 0.2837 - val_accuracy: 0.9371\n",
            "Epoch 23/30\n",
            "1780/1780 [==============================] - 0s 104us/sample - loss: 0.1158 - accuracy: 0.9815 - val_loss: 0.2718 - val_accuracy: 0.9371\n",
            "Epoch 24/30\n",
            "1780/1780 [==============================] - 0s 105us/sample - loss: 0.1047 - accuracy: 0.9848 - val_loss: 0.2712 - val_accuracy: 0.9348\n",
            "Epoch 25/30\n",
            "1780/1780 [==============================] - 0s 98us/sample - loss: 0.0957 - accuracy: 0.9871 - val_loss: 0.2656 - val_accuracy: 0.9371\n",
            "Epoch 26/30\n",
            "1780/1780 [==============================] - 0s 110us/sample - loss: 0.0872 - accuracy: 0.9882 - val_loss: 0.2678 - val_accuracy: 0.9326\n",
            "Epoch 27/30\n",
            "1780/1780 [==============================] - 0s 103us/sample - loss: 0.0798 - accuracy: 0.9899 - val_loss: 0.2580 - val_accuracy: 0.9371\n",
            "Epoch 28/30\n",
            "1780/1780 [==============================] - 0s 101us/sample - loss: 0.0731 - accuracy: 0.9916 - val_loss: 0.2592 - val_accuracy: 0.9416\n",
            "Epoch 29/30\n",
            "1780/1780 [==============================] - 0s 104us/sample - loss: 0.0668 - accuracy: 0.9910 - val_loss: 0.2529 - val_accuracy: 0.9393\n",
            "Epoch 30/30\n",
            "1780/1780 [==============================] - 0s 104us/sample - loss: 0.0610 - accuracy: 0.9927 - val_loss: 0.2526 - val_accuracy: 0.9371\n"
          ],
          "name": "stdout"
        }
      ]
    },
    {
      "cell_type": "code",
      "metadata": {
        "id": "--hlHlwEMMVB",
        "colab_type": "code",
        "colab": {}
      },
      "source": [
        ""
      ],
      "execution_count": 0,
      "outputs": []
    }
  ]
}